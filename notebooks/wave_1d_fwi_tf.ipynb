{
 "cells": [
  {
   "cell_type": "markdown",
   "metadata": {},
   "source": [
    "# FWI using TensorFlow: Attempt 2\n",
    "*by [Alan Richardson](mailto:alan@ausargeo.com) ([Ausar Geophysical](www.ausargeo.com))*\n",
    "\n",
    "In [Attempt 1](https://github.com/ar4/nnfwi_1d/blob/master/notebooks/nnfwi_1layer.ipynb), I provided receiver data as input to a deep neural network, and tried to get it to output the velocity model that generated the data. This seemed like the most obvious way of applying machine learning to the problem of inverting seismic data, and it worked moderately well. The second most obvious method is what I explore in this notebook.\n",
    "\n",
    "TensorFlow is typically used to build and train deep neural networks, but it can also do other things. My [finite difference TensorFlow wave propagator](https://github.com/ar4/wave_1d_fd_tf/blob/master/notebooks/wave_1d_fd_tf.ipynb) is probably one of the more unusual of these things, since it doesn't even involve any machine learning. In this attempt I won't be using any neural networks, but I will at least be using TensorFlow to do some learning.\n",
    "\n",
    "The idea is that I will do something resembling the conventional FWI algorithm using TensorFlow. By using TensorFlow to forward propagate the source wave through the current model, I can record the wavefield at the receiver locations, compare this with the true receiver data, and allow the optimisation algorithm to update the model to reduce the misfit. The nice part about using TensorFlow to do this is that it works out the model gradient from the computational graph itself. I tell it how to do the forward propagation, and it handles everything else by itself."
   ]
  },
  {
   "cell_type": "code",
   "execution_count": 1,
   "metadata": {
    "collapsed": false
   },
   "outputs": [],
   "source": [
    "import numpy as np\n",
    "from wave_1d_fwi_tf import fwi, test_wave_1d_fwi_tf"
   ]
  },
  {
   "cell_type": "code",
   "execution_count": 2,
   "metadata": {
    "collapsed": true
   },
   "outputs": [],
   "source": [
    "import matplotlib.pyplot as plt\n",
    "%matplotlib inline"
   ]
  },
  {
   "cell_type": "markdown",
   "metadata": {},
   "source": [
    "I'm going to use a very simple 1D model to test this one: 1500 m/s for the top half, and 2500 m/s for the bottom half. The initial model that I provide to the inversion is a constant 1500 m/s. To help reduce the non-uniqueness, I use the data from two receivers: one at the top and one at the bottom of the model, so both reflected and transmitted waves are recorded. It's unrealistic, but since it's our first try with the method, let's use something that we hope it should certainly be able to do a good job on."
   ]
  },
  {
   "cell_type": "code",
   "execution_count": 3,
   "metadata": {
    "collapsed": true
   },
   "outputs": [],
   "source": [
    "model=test_wave_1d_fwi_tf.model_one()"
   ]
  },
  {
   "cell_type": "markdown",
   "metadata": {},
   "source": [
    "A lot of the work is done in the cell below. This is where the computational graph, which describes how to forward propagate the source wave through the model, is defined. The graph is quite large, since it contains each time step, and so takes a while to build. No actual propagation takes place in this step, only telling TensorFlow how to do the propagation."
   ]
  },
  {
   "cell_type": "code",
   "execution_count": 4,
   "metadata": {
    "collapsed": false
   },
   "outputs": [],
   "source": [
    "y = fwi.TFFWI(np.ones(len(model['model']), np.float32)*1500,                                \n",
    "              model['sources'], model['sx'],                             \n",
    "              model['data'], model['rx'], model['nsteps'],\n",
    "              model['dx'], model['dt'])"
   ]
  },
  {
   "cell_type": "markdown",
   "metadata": {},
   "source": [
    "Let's take a look at the gradient that TensorFlow computes.\n",
    "\n",
    "As you can see from the plot below, which has depth on the x axis and model gradient amplitude on the y axis, TensorFlow has determined that to reduce the loss, the velocity in the centre of the model (the location of the reflector) needs to change. In reality, the whole bottom half of the model needs to change (from the 1500 m/s of the initial model to the true 2500 m/s), but only making a change at the reflector location is the same as what I would expect conventional FWI to do.\n",
    "\n",
    "In the computational graph that was created above, I did have to do one little extra thing in addition to telling TensorFlow how to forward propagate: I had to overwrite the gradient in the PML (perfectly matched layer - the absorbing boundary) regions with the gradient at the first non-PML cell. If I don't do that, the gradient explodes there. I'm not completely sure why this happens, but I suspect it is because the PML forces the wave amplitude to zero there, and so infinitely large reflectors would be needed to generate the recorded arrivals. There are still some little blips at the boundaries, but they are now much smaller than the gradient in the centre of the model."
   ]
  },
  {
   "cell_type": "code",
   "execution_count": 5,
   "metadata": {
    "collapsed": false
   },
   "outputs": [],
   "source": [
    "y.sess.run(y.init)\n",
    "\n",
    "grad = y.sess.run(y.y_grad)"
   ]
  },
  {
   "cell_type": "code",
   "execution_count": 7,
   "metadata": {
    "collapsed": false
   },
   "outputs": [
    {
     "data": {
      "text/plain": [
       "[<matplotlib.lines.Line2D at 0x7f73d59d7eb8>]"
      ]
     },
     "execution_count": 7,
     "metadata": {},
     "output_type": "execute_result"
    },
    {
     "data": {
      "image/png": "[encoded data removed]",
      "text/plain": [
       "<matplotlib.figure.Figure at 0x7f74805f8cf8>"
      ]
     },
     "metadata": {},
     "output_type": "display_data"
    }
   ],
   "source": [
    "plt.plot(grad)"
   ]
  },
  {
   "cell_type": "markdown",
   "metadata": {},
   "source": [
    "Since the gradient looks reasonable, let's try running the optimization for 2000 iterations.\n",
    "\n",
    "The numbers show the iteration number and the value of the loss. The loss declines quite quickly at first, but then slows down considerably after 400 iterations. It continues to make progress, but I don't think the results would be significantly different if I ran for more than 2000 iterations."
   ]
  },
  {
   "cell_type": "code",
   "execution_count": 5,
   "metadata": {
    "collapsed": false
   },
   "outputs": [
    {
     "name": "stdout",
     "output_type": "stream",
     "text": [
      "0 28.4814\n",
      "20 27.2304\n",
      "40 25.4297\n",
      "60 24.9956\n",
      "80 24.6908\n",
      "100 24.4482\n",
      "120 24.2076\n",
      "140 23.9131\n",
      "160 23.4631\n",
      "180 21.5585\n",
      "200 20.5038\n",
      "220 20.3109\n",
      "240 20.1566\n",
      "260 19.9373\n",
      "280 19.5916\n",
      "300 19.0921\n",
      "320 18.6795\n",
      "340 18.0487\n",
      "360 17.9002\n",
      "380 17.7746\n",
      "400 17.6665\n",
      "420 17.5889\n",
      "440 17.5374\n",
      "460 17.5007\n",
      "480 17.4723\n",
      "500 17.4494\n",
      "520 17.4303\n",
      "540 17.4143\n",
      "560 17.4006\n",
      "580 17.3889\n",
      "600 17.3789\n",
      "620 17.3703\n",
      "640 17.3629\n",
      "660 17.3564\n",
      "680 17.3506\n",
      "700 17.3456\n",
      "720 17.3411\n",
      "740 17.3371\n",
      "760 17.3335\n",
      "780 17.3303\n",
      "800 17.3275\n",
      "820 17.325\n",
      "840 17.3228\n",
      "860 17.3208\n",
      "880 17.3191\n",
      "900 17.3175\n",
      "920 17.3161\n",
      "940 17.3149\n",
      "960 17.3137\n",
      "980 17.3127\n",
      "1000 17.3117\n",
      "1020 17.3108\n",
      "1040 17.31\n",
      "1060 17.3092\n",
      "1080 17.3084\n",
      "1100 17.3077\n",
      "1120 17.307\n",
      "1140 17.3063\n",
      "1160 17.3056\n",
      "1180 17.305\n",
      "1200 17.3044\n",
      "1220 17.3038\n",
      "1240 17.3032\n",
      "1260 17.3026\n",
      "1280 17.3021\n",
      "1300 17.3015\n",
      "1320 17.301\n",
      "1340 17.3005\n",
      "1360 17.2999\n",
      "1380 17.2994\n",
      "1400 17.2989\n",
      "1420 17.2984\n",
      "1440 17.298\n",
      "1460 17.2975\n",
      "1480 17.297\n",
      "1500 17.2965\n",
      "1520 17.2961\n",
      "1540 17.2957\n",
      "1560 17.2952\n",
      "1580 17.2948\n",
      "1600 17.2944\n",
      "1620 17.294\n",
      "1640 17.2935\n",
      "1660 17.2931\n",
      "1680 17.2928\n",
      "1700 17.2924\n",
      "1720 17.292\n",
      "1740 17.2916\n",
      "1760 17.2913\n",
      "1780 17.2909\n",
      "1800 17.2906\n",
      "1820 17.2902\n",
      "1840 17.2899\n",
      "1860 17.2895\n",
      "1880 17.2892\n",
      "1900 17.2889\n",
      "1920 17.2886\n",
      "1940 17.2883\n",
      "1960 17.288\n",
      "1980 17.2876\n"
     ]
    }
   ],
   "source": [
    "pred_y, pred_model=y.invert(nsteps=2000)"
   ]
  },
  {
   "cell_type": "markdown",
   "metadata": {},
   "source": [
    "## Results\n",
    "\n",
    "Now for the exciting part. How did it do?\n",
    "\n",
    "Let's first compare the true receiver data with the computed receiver data in the inverted model. The method has been trying to make these two things match.\n",
    "\n",
    "You may remember that I used two receivers: one at the top and one at the bottom. The data from both are concatenated (the top receiver data first) and displayed below. The orange line plots the true data and the blue is from the inverted model.\n",
    "\n",
    "The data for the top receiver includes the direct arrival from the source (the first large wavelet), and the reflected arrival (the small wavelet in the centre of the plot). It looks like the method has done a pretty good job of finding a model that produces data to match this receiver. There's a little bit of extra wiggliness, but the two actual arrivals are both reproduced very accurately.\n",
    "\n",
    "The bottom receiver only records the transmitted wave, so its recording is mostly zeros. The method seems to have gotten a bit too fond of trying to match these zeros, and the data from the inverted model is in fact zero all the way through the large transmitted arrival. Fail. The result might have been different if I forward propagated for a bit longer, as the current number of timesteps doesn't seem to be enough for the transmitted arrival to arrive at the bottom receiver in the inverted velocity model (you can see the beginning wiggles just starting as the recording ends). This probably made the optimizer reluctant to make the model faster as doing so would start to bring more of the transmitted arrival into the recording, and so, until it gets fast enough to match the true transmitted arrival, would increase the loss function."
   ]
  },
  {
   "cell_type": "code",
   "execution_count": 6,
   "metadata": {
    "collapsed": false
   },
   "outputs": [
    {
     "data": {
      "text/plain": [
       "[<matplotlib.lines.Line2D at 0x7f21645c9b38>]"
      ]
     },
     "execution_count": 6,
     "metadata": {},
     "output_type": "execute_result"
    },
    {
     "data": {
      "image/png": "[encoded data removed]",
      "text/plain": [
       "<matplotlib.figure.Figure at 0x7f21645c9b70>"
      ]
     },
     "metadata": {},
     "output_type": "display_data"
    }
   ],
   "source": [
    "plt.plot(pred_y.reshape(-1))\n",
    "plt.plot(model['data'].reshape(-1))"
   ]
  },
  {
   "cell_type": "markdown",
   "metadata": {},
   "source": [
    "Enough looking at recorded data, let's see what we came for: the inverted model. It is plotted below (x axis is depth, y axis is velocity), and... Oh dear. There is a spike at about the correct depth for where the velocity steps up in the true model, and the velocity above that stayed about right (it was already correct in the initial model), but the lower half of the model has very much failed to reach the true 2500 m/s."
   ]
  },
  {
   "cell_type": "code",
   "execution_count": 7,
   "metadata": {
    "collapsed": false
   },
   "outputs": [
    {
     "data": {
      "text/plain": [
       "[<matplotlib.lines.Line2D at 0x7f20e3984ef0>]"
      ]
     },
     "execution_count": 7,
     "metadata": {},
     "output_type": "execute_result"
    },
    {
     "data": {
      "image/png": "[encoded data removed]",
      "text/plain": [
       "<matplotlib.figure.Figure at 0x7f20e8da1630>"
      ]
     },
     "metadata": {},
     "output_type": "display_data"
    }
   ],
   "source": [
    "plt.plot(pred_model.reshape(-1))"
   ]
  },
  {
   "cell_type": "markdown",
   "metadata": {},
   "source": [
    "## Conclusion\n",
    "\n",
    "Although this was an interesting experiment with TensorFlow, and the results might have been better if I forward propagated for more time steps (so the transmitted wave was recorded in the initial model), the slow runtime and large memory usage of this method mean that it is probably impractical for anything other than small toy problems like this."
   ]
  }
 ],
 "metadata": {
  "anaconda-cloud": {},
  "kernelspec": {
   "display_name": "Python [default]",
   "language": "python",
   "name": "python3"
  },
  "language_info": {
   "codemirror_mode": {
    "name": "ipython",
    "version": 3
   },
   "file_extension": ".py",
   "mimetype": "text/x-python",
   "name": "python",
   "nbconvert_exporter": "python",
   "pygments_lexer": "ipython3",
   "version": "3.5.2"
  }
 },
 "nbformat": 4,
 "nbformat_minor": 1
}
